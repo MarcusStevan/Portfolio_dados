{
  "nbformat": 4,
  "nbformat_minor": 0,
  "metadata": {
    "colab": {
      "name": "Arquivo criado no WEBINAR.ipynb",
      "provenance": [],
      "collapsed_sections": []
    },
    "kernelspec": {
      "name": "python3",
      "display_name": "Python 3"
    },
    "language_info": {
      "name": "python"
    }
  },
  "cells": [
    {
      "cell_type": "markdown",
      "metadata": {
        "id": "qrhyB4uWNwvt"
      },
      "source": [
        "# Etapa 1 - Entendimento do Problema \n",
        "\n",
        "## Melhorar a conversão de vendas a partir da análise de campanhas realizadas no Facebook. "
      ]
    },
    {
      "cell_type": "markdown",
      "metadata": {
        "id": "l5qDGQ3eN13Z"
      },
      "source": [
        "# Etapa 2: Coleta de Dados\n",
        "\n",
        "#### Você pode baixar esse conjunto de dados no site: https://www.kaggle.com/loveall/clicks-conversion-tracking"
      ]
    },
    {
      "cell_type": "markdown",
      "metadata": {
        "id": "mmftZH0VN45D"
      },
      "source": [
        "# Etapa 3: Análise, Interpretação e Visualização dos Dados\n"
      ]
    },
    {
      "cell_type": "markdown",
      "metadata": {
        "id": "OpnFSbnQN7Xh"
      },
      "source": [
        "#### Importando as bibliotecas"
      ]
    },
    {
      "cell_type": "code",
      "metadata": {
        "id": "qgqyrshnNzES"
      },
      "source": [
        "#Manipulação dos dados\n",
        "import pandas as pd\n",
        "\n",
        "#Visualização\n",
        "import missingno\n",
        "import matplotlib.pyplot as plt\n",
        "import seaborn as sns\n",
        "#Machine Learning\n",
        "from sklearn.model_selection import train_test_split\n",
        "from sklearn.linear_model import LinearRegression"
      ],
      "execution_count": 155,
      "outputs": []
    },
    {
      "cell_type": "markdown",
      "metadata": {
        "id": "rlsHyd4YOHn-"
      },
      "source": [
        "#### Carregando os dados"
      ]
    },
    {
      "cell_type": "code",
      "metadata": {
        "id": "8cb0OOJHOIOz"
      },
      "source": [
        "df = pd.read_csv(\"KAG_conversion_data.csv\")"
      ],
      "execution_count": 76,
      "outputs": []
    },
    {
      "cell_type": "code",
      "metadata": {
        "colab": {
          "base_uri": "https://localhost:8080/"
        },
        "id": "yUMAUM-YMyJL",
        "outputId": "96a090fa-cad8-4781-9692-8251c661f91c"
      },
      "source": [
        "type(df)"
      ],
      "execution_count": 77,
      "outputs": [
        {
          "output_type": "execute_result",
          "data": {
            "text/plain": [
              "pandas.core.frame.DataFrame"
            ]
          },
          "metadata": {
            "tags": []
          },
          "execution_count": 77
        }
      ]
    },
    {
      "cell_type": "markdown",
      "metadata": {
        "id": "eyUXcKq1OLJL"
      },
      "source": [
        "#### Primeira Inspeção"
      ]
    },
    {
      "cell_type": "code",
      "metadata": {
        "id": "iP7NFHG9OQ66",
        "colab": {
          "base_uri": "https://localhost:8080/",
          "height": 227
        },
        "outputId": "1663e212-6a66-4999-bd16-4f83b7a757fa"
      },
      "source": [
        "df.head() #Lista por default as 5 primeiras linhas"
      ],
      "execution_count": 78,
      "outputs": [
        {
          "output_type": "execute_result",
          "data": {
            "text/html": [
              "<div>\n",
              "<style scoped>\n",
              "    .dataframe tbody tr th:only-of-type {\n",
              "        vertical-align: middle;\n",
              "    }\n",
              "\n",
              "    .dataframe tbody tr th {\n",
              "        vertical-align: top;\n",
              "    }\n",
              "\n",
              "    .dataframe thead th {\n",
              "        text-align: right;\n",
              "    }\n",
              "</style>\n",
              "<table border=\"1\" class=\"dataframe\">\n",
              "  <thead>\n",
              "    <tr style=\"text-align: right;\">\n",
              "      <th></th>\n",
              "      <th>ad_id</th>\n",
              "      <th>xyz_campaign_id</th>\n",
              "      <th>fb_campaign_id</th>\n",
              "      <th>age</th>\n",
              "      <th>gender</th>\n",
              "      <th>interest</th>\n",
              "      <th>Impressions</th>\n",
              "      <th>Clicks</th>\n",
              "      <th>Spent</th>\n",
              "      <th>Total_Conversion</th>\n",
              "      <th>Approved_Conversion</th>\n",
              "    </tr>\n",
              "  </thead>\n",
              "  <tbody>\n",
              "    <tr>\n",
              "      <th>0</th>\n",
              "      <td>708746</td>\n",
              "      <td>916</td>\n",
              "      <td>103916</td>\n",
              "      <td>30-34</td>\n",
              "      <td>M</td>\n",
              "      <td>15</td>\n",
              "      <td>7350</td>\n",
              "      <td>1</td>\n",
              "      <td>1.43</td>\n",
              "      <td>2</td>\n",
              "      <td>1</td>\n",
              "    </tr>\n",
              "    <tr>\n",
              "      <th>1</th>\n",
              "      <td>708749</td>\n",
              "      <td>916</td>\n",
              "      <td>103917</td>\n",
              "      <td>30-34</td>\n",
              "      <td>M</td>\n",
              "      <td>16</td>\n",
              "      <td>17861</td>\n",
              "      <td>2</td>\n",
              "      <td>1.82</td>\n",
              "      <td>2</td>\n",
              "      <td>0</td>\n",
              "    </tr>\n",
              "    <tr>\n",
              "      <th>2</th>\n",
              "      <td>708771</td>\n",
              "      <td>916</td>\n",
              "      <td>103920</td>\n",
              "      <td>30-34</td>\n",
              "      <td>M</td>\n",
              "      <td>20</td>\n",
              "      <td>693</td>\n",
              "      <td>0</td>\n",
              "      <td>0.00</td>\n",
              "      <td>1</td>\n",
              "      <td>0</td>\n",
              "    </tr>\n",
              "    <tr>\n",
              "      <th>3</th>\n",
              "      <td>708815</td>\n",
              "      <td>916</td>\n",
              "      <td>103928</td>\n",
              "      <td>30-34</td>\n",
              "      <td>M</td>\n",
              "      <td>28</td>\n",
              "      <td>4259</td>\n",
              "      <td>1</td>\n",
              "      <td>1.25</td>\n",
              "      <td>1</td>\n",
              "      <td>0</td>\n",
              "    </tr>\n",
              "    <tr>\n",
              "      <th>4</th>\n",
              "      <td>708818</td>\n",
              "      <td>916</td>\n",
              "      <td>103928</td>\n",
              "      <td>30-34</td>\n",
              "      <td>M</td>\n",
              "      <td>28</td>\n",
              "      <td>4133</td>\n",
              "      <td>1</td>\n",
              "      <td>1.29</td>\n",
              "      <td>1</td>\n",
              "      <td>1</td>\n",
              "    </tr>\n",
              "  </tbody>\n",
              "</table>\n",
              "</div>"
            ],
            "text/plain": [
              "    ad_id  xyz_campaign_id  ...  Total_Conversion Approved_Conversion\n",
              "0  708746              916  ...                 2                   1\n",
              "1  708749              916  ...                 2                   0\n",
              "2  708771              916  ...                 1                   0\n",
              "3  708815              916  ...                 1                   0\n",
              "4  708818              916  ...                 1                   1\n",
              "\n",
              "[5 rows x 11 columns]"
            ]
          },
          "metadata": {
            "tags": []
          },
          "execution_count": 78
        }
      ]
    },
    {
      "cell_type": "code",
      "metadata": {
        "colab": {
          "base_uri": "https://localhost:8080/",
          "height": 227
        },
        "id": "sZsNNI-NTYf0",
        "outputId": "54e56356-8964-402c-8654-ce66f98e7850"
      },
      "source": [
        "df.tail()"
      ],
      "execution_count": 79,
      "outputs": [
        {
          "output_type": "execute_result",
          "data": {
            "text/html": [
              "<div>\n",
              "<style scoped>\n",
              "    .dataframe tbody tr th:only-of-type {\n",
              "        vertical-align: middle;\n",
              "    }\n",
              "\n",
              "    .dataframe tbody tr th {\n",
              "        vertical-align: top;\n",
              "    }\n",
              "\n",
              "    .dataframe thead th {\n",
              "        text-align: right;\n",
              "    }\n",
              "</style>\n",
              "<table border=\"1\" class=\"dataframe\">\n",
              "  <thead>\n",
              "    <tr style=\"text-align: right;\">\n",
              "      <th></th>\n",
              "      <th>ad_id</th>\n",
              "      <th>xyz_campaign_id</th>\n",
              "      <th>fb_campaign_id</th>\n",
              "      <th>age</th>\n",
              "      <th>gender</th>\n",
              "      <th>interest</th>\n",
              "      <th>Impressions</th>\n",
              "      <th>Clicks</th>\n",
              "      <th>Spent</th>\n",
              "      <th>Total_Conversion</th>\n",
              "      <th>Approved_Conversion</th>\n",
              "    </tr>\n",
              "  </thead>\n",
              "  <tbody>\n",
              "    <tr>\n",
              "      <th>1138</th>\n",
              "      <td>1314410</td>\n",
              "      <td>1178</td>\n",
              "      <td>179977</td>\n",
              "      <td>45-49</td>\n",
              "      <td>F</td>\n",
              "      <td>109</td>\n",
              "      <td>1129773</td>\n",
              "      <td>252</td>\n",
              "      <td>358.189997</td>\n",
              "      <td>13</td>\n",
              "      <td>2</td>\n",
              "    </tr>\n",
              "    <tr>\n",
              "      <th>1139</th>\n",
              "      <td>1314411</td>\n",
              "      <td>1178</td>\n",
              "      <td>179978</td>\n",
              "      <td>45-49</td>\n",
              "      <td>F</td>\n",
              "      <td>110</td>\n",
              "      <td>637549</td>\n",
              "      <td>120</td>\n",
              "      <td>173.880003</td>\n",
              "      <td>3</td>\n",
              "      <td>0</td>\n",
              "    </tr>\n",
              "    <tr>\n",
              "      <th>1140</th>\n",
              "      <td>1314412</td>\n",
              "      <td>1178</td>\n",
              "      <td>179979</td>\n",
              "      <td>45-49</td>\n",
              "      <td>F</td>\n",
              "      <td>111</td>\n",
              "      <td>151531</td>\n",
              "      <td>28</td>\n",
              "      <td>40.289999</td>\n",
              "      <td>2</td>\n",
              "      <td>0</td>\n",
              "    </tr>\n",
              "    <tr>\n",
              "      <th>1141</th>\n",
              "      <td>1314414</td>\n",
              "      <td>1178</td>\n",
              "      <td>179981</td>\n",
              "      <td>45-49</td>\n",
              "      <td>F</td>\n",
              "      <td>113</td>\n",
              "      <td>790253</td>\n",
              "      <td>135</td>\n",
              "      <td>198.710000</td>\n",
              "      <td>8</td>\n",
              "      <td>2</td>\n",
              "    </tr>\n",
              "    <tr>\n",
              "      <th>1142</th>\n",
              "      <td>1314415</td>\n",
              "      <td>1178</td>\n",
              "      <td>179982</td>\n",
              "      <td>45-49</td>\n",
              "      <td>F</td>\n",
              "      <td>114</td>\n",
              "      <td>513161</td>\n",
              "      <td>114</td>\n",
              "      <td>165.609999</td>\n",
              "      <td>5</td>\n",
              "      <td>2</td>\n",
              "    </tr>\n",
              "  </tbody>\n",
              "</table>\n",
              "</div>"
            ],
            "text/plain": [
              "        ad_id  xyz_campaign_id  ...  Total_Conversion Approved_Conversion\n",
              "1138  1314410             1178  ...                13                   2\n",
              "1139  1314411             1178  ...                 3                   0\n",
              "1140  1314412             1178  ...                 2                   0\n",
              "1141  1314414             1178  ...                 8                   2\n",
              "1142  1314415             1178  ...                 5                   2\n",
              "\n",
              "[5 rows x 11 columns]"
            ]
          },
          "metadata": {
            "tags": []
          },
          "execution_count": 79
        }
      ]
    },
    {
      "cell_type": "code",
      "metadata": {
        "colab": {
          "base_uri": "https://localhost:8080/"
        },
        "id": "uH4Tu7_aTmyb",
        "outputId": "47970de7-7551-40f3-cca2-2059386a7708"
      },
      "source": [
        "df.columns"
      ],
      "execution_count": 80,
      "outputs": [
        {
          "output_type": "execute_result",
          "data": {
            "text/plain": [
              "Index(['ad_id', 'xyz_campaign_id', 'fb_campaign_id', 'age', 'gender',\n",
              "       'interest', 'Impressions', 'Clicks', 'Spent', 'Total_Conversion',\n",
              "       'Approved_Conversion'],\n",
              "      dtype='object')"
            ]
          },
          "metadata": {
            "tags": []
          },
          "execution_count": 80
        }
      ]
    },
    {
      "cell_type": "code",
      "metadata": {
        "colab": {
          "base_uri": "https://localhost:8080/"
        },
        "id": "VQ8BdJ8XT7lL",
        "outputId": "1d4c03d6-eabe-48a3-e33a-06f4598aea2f"
      },
      "source": [
        "df.index"
      ],
      "execution_count": 81,
      "outputs": [
        {
          "output_type": "execute_result",
          "data": {
            "text/plain": [
              "RangeIndex(start=0, stop=1143, step=1)"
            ]
          },
          "metadata": {
            "tags": []
          },
          "execution_count": 81
        }
      ]
    },
    {
      "cell_type": "code",
      "metadata": {
        "colab": {
          "base_uri": "https://localhost:8080/"
        },
        "id": "GWcmgIN5UGIE",
        "outputId": "2425b741-3c91-42fd-874c-a6c7486fc057"
      },
      "source": [
        "df.shape"
      ],
      "execution_count": 82,
      "outputs": [
        {
          "output_type": "execute_result",
          "data": {
            "text/plain": [
              "(1143, 11)"
            ]
          },
          "metadata": {
            "tags": []
          },
          "execution_count": 82
        }
      ]
    },
    {
      "cell_type": "code",
      "metadata": {
        "id": "KospT-dyUY6k"
      },
      "source": [
        "linhas, colunas = df.shape"
      ],
      "execution_count": 83,
      "outputs": []
    },
    {
      "cell_type": "code",
      "metadata": {
        "colab": {
          "base_uri": "https://localhost:8080/"
        },
        "id": "CjXqwswvUlX0",
        "outputId": "f57fcbd9-c7b1-4ddf-d700-64619e86a6e4"
      },
      "source": [
        "print(f\"O número de linhas e {linhas}\")"
      ],
      "execution_count": 84,
      "outputs": [
        {
          "output_type": "stream",
          "text": [
            "O número de linhas e 1143\n"
          ],
          "name": "stdout"
        }
      ]
    },
    {
      "cell_type": "code",
      "metadata": {
        "colab": {
          "base_uri": "https://localhost:8080/"
        },
        "id": "-0c0F-ImUrIH",
        "outputId": "e49cbc8f-4d35-4320-c251-be156cb99cbe"
      },
      "source": [
        "type(df)"
      ],
      "execution_count": 85,
      "outputs": [
        {
          "output_type": "execute_result",
          "data": {
            "text/plain": [
              "pandas.core.frame.DataFrame"
            ]
          },
          "metadata": {
            "tags": []
          },
          "execution_count": 85
        }
      ]
    },
    {
      "cell_type": "code",
      "metadata": {
        "id": "uC_nhI5DU351"
      },
      "source": [
        "ser_interest = df[\"interest\"]"
      ],
      "execution_count": 86,
      "outputs": []
    },
    {
      "cell_type": "code",
      "metadata": {
        "colab": {
          "base_uri": "https://localhost:8080/"
        },
        "id": "R7wBfxBhVGs6",
        "outputId": "265a1ce4-e4b5-48d6-c42e-c0a75ec35cde"
      },
      "source": [
        "type(ser_interest)"
      ],
      "execution_count": 87,
      "outputs": [
        {
          "output_type": "execute_result",
          "data": {
            "text/plain": [
              "pandas.core.series.Series"
            ]
          },
          "metadata": {
            "tags": []
          },
          "execution_count": 87
        }
      ]
    },
    {
      "cell_type": "code",
      "metadata": {
        "colab": {
          "base_uri": "https://localhost:8080/"
        },
        "id": "nQii5MXEVPbU",
        "outputId": "d7b7f192-ec1c-46c7-dfe4-6a02827787a1"
      },
      "source": [
        "df.info()"
      ],
      "execution_count": 88,
      "outputs": [
        {
          "output_type": "stream",
          "text": [
            "<class 'pandas.core.frame.DataFrame'>\n",
            "RangeIndex: 1143 entries, 0 to 1142\n",
            "Data columns (total 11 columns):\n",
            " #   Column               Non-Null Count  Dtype  \n",
            "---  ------               --------------  -----  \n",
            " 0   ad_id                1143 non-null   int64  \n",
            " 1   xyz_campaign_id      1143 non-null   int64  \n",
            " 2   fb_campaign_id       1143 non-null   int64  \n",
            " 3   age                  1143 non-null   object \n",
            " 4   gender               1143 non-null   object \n",
            " 5   interest             1143 non-null   int64  \n",
            " 6   Impressions          1143 non-null   int64  \n",
            " 7   Clicks               1143 non-null   int64  \n",
            " 8   Spent                1143 non-null   float64\n",
            " 9   Total_Conversion     1143 non-null   int64  \n",
            " 10  Approved_Conversion  1143 non-null   int64  \n",
            "dtypes: float64(1), int64(8), object(2)\n",
            "memory usage: 98.4+ KB\n"
          ],
          "name": "stdout"
        }
      ]
    },
    {
      "cell_type": "markdown",
      "metadata": {
        "id": "9m2Irch_X5At"
      },
      "source": [
        "\n",
        "\n",
        "```\n",
        "# Isto está formatado como código\n",
        "```\n",
        "\n",
        "#### Dicionário dos dados\n",
        "\n",
        "\n",
        "\n",
        "1.   ad_id - ID único para cada anúncio\n",
        "2.   xyzcampaignid - ID associado a cada campanha publicitária da empresa XYZ\n",
        "3.   fbcampaignid - ID associado a como o Facebook rastreia cada campanha.\n",
        "4.   age - idade da pessoa a quem o anúncio é mostrado.\n",
        "5.   gender - sexo da pessoa que deseja que o anúncio seja mostrado\n",
        "6.   interest - código que especifica a categoria à qual pertence o interesse da pessoa (os interesses são mencionados no perfil público da pessoa no Facebook)\n",
        "7.   Impression - o número de vezes que o anúncio foi mostrado.\n",
        "8.   Clicks - número de cliques nesse anúncio.\n",
        "9.   Spent - Valor pago pela empresa xyz ao Facebook, para exibir aquele anúncio.\n",
        "10.  Total conversion - Número total de pessoas que fizeram perguntas sobre o produto depois de ver o anúncio.\n",
        "11.  Approved conversion - Número total de pessoas que compraram o produto depois de ver o anúncio."
      ]
    },
    {
      "cell_type": "code",
      "metadata": {
        "colab": {
          "base_uri": "https://localhost:8080/",
          "height": 227
        },
        "id": "INPNfxoJMOxL",
        "outputId": "781864a8-3162-4e50-bfed-26b82afd8946"
      },
      "source": [
        "df.head()"
      ],
      "execution_count": 89,
      "outputs": [
        {
          "output_type": "execute_result",
          "data": {
            "text/html": [
              "<div>\n",
              "<style scoped>\n",
              "    .dataframe tbody tr th:only-of-type {\n",
              "        vertical-align: middle;\n",
              "    }\n",
              "\n",
              "    .dataframe tbody tr th {\n",
              "        vertical-align: top;\n",
              "    }\n",
              "\n",
              "    .dataframe thead th {\n",
              "        text-align: right;\n",
              "    }\n",
              "</style>\n",
              "<table border=\"1\" class=\"dataframe\">\n",
              "  <thead>\n",
              "    <tr style=\"text-align: right;\">\n",
              "      <th></th>\n",
              "      <th>ad_id</th>\n",
              "      <th>xyz_campaign_id</th>\n",
              "      <th>fb_campaign_id</th>\n",
              "      <th>age</th>\n",
              "      <th>gender</th>\n",
              "      <th>interest</th>\n",
              "      <th>Impressions</th>\n",
              "      <th>Clicks</th>\n",
              "      <th>Spent</th>\n",
              "      <th>Total_Conversion</th>\n",
              "      <th>Approved_Conversion</th>\n",
              "    </tr>\n",
              "  </thead>\n",
              "  <tbody>\n",
              "    <tr>\n",
              "      <th>0</th>\n",
              "      <td>708746</td>\n",
              "      <td>916</td>\n",
              "      <td>103916</td>\n",
              "      <td>30-34</td>\n",
              "      <td>M</td>\n",
              "      <td>15</td>\n",
              "      <td>7350</td>\n",
              "      <td>1</td>\n",
              "      <td>1.43</td>\n",
              "      <td>2</td>\n",
              "      <td>1</td>\n",
              "    </tr>\n",
              "    <tr>\n",
              "      <th>1</th>\n",
              "      <td>708749</td>\n",
              "      <td>916</td>\n",
              "      <td>103917</td>\n",
              "      <td>30-34</td>\n",
              "      <td>M</td>\n",
              "      <td>16</td>\n",
              "      <td>17861</td>\n",
              "      <td>2</td>\n",
              "      <td>1.82</td>\n",
              "      <td>2</td>\n",
              "      <td>0</td>\n",
              "    </tr>\n",
              "    <tr>\n",
              "      <th>2</th>\n",
              "      <td>708771</td>\n",
              "      <td>916</td>\n",
              "      <td>103920</td>\n",
              "      <td>30-34</td>\n",
              "      <td>M</td>\n",
              "      <td>20</td>\n",
              "      <td>693</td>\n",
              "      <td>0</td>\n",
              "      <td>0.00</td>\n",
              "      <td>1</td>\n",
              "      <td>0</td>\n",
              "    </tr>\n",
              "    <tr>\n",
              "      <th>3</th>\n",
              "      <td>708815</td>\n",
              "      <td>916</td>\n",
              "      <td>103928</td>\n",
              "      <td>30-34</td>\n",
              "      <td>M</td>\n",
              "      <td>28</td>\n",
              "      <td>4259</td>\n",
              "      <td>1</td>\n",
              "      <td>1.25</td>\n",
              "      <td>1</td>\n",
              "      <td>0</td>\n",
              "    </tr>\n",
              "    <tr>\n",
              "      <th>4</th>\n",
              "      <td>708818</td>\n",
              "      <td>916</td>\n",
              "      <td>103928</td>\n",
              "      <td>30-34</td>\n",
              "      <td>M</td>\n",
              "      <td>28</td>\n",
              "      <td>4133</td>\n",
              "      <td>1</td>\n",
              "      <td>1.29</td>\n",
              "      <td>1</td>\n",
              "      <td>1</td>\n",
              "    </tr>\n",
              "  </tbody>\n",
              "</table>\n",
              "</div>"
            ],
            "text/plain": [
              "    ad_id  xyz_campaign_id  ...  Total_Conversion Approved_Conversion\n",
              "0  708746              916  ...                 2                   1\n",
              "1  708749              916  ...                 2                   0\n",
              "2  708771              916  ...                 1                   0\n",
              "3  708815              916  ...                 1                   0\n",
              "4  708818              916  ...                 1                   1\n",
              "\n",
              "[5 rows x 11 columns]"
            ]
          },
          "metadata": {
            "tags": []
          },
          "execution_count": 89
        }
      ]
    },
    {
      "cell_type": "code",
      "metadata": {
        "id": "B3g9qjKYMhEQ"
      },
      "source": [
        "df.rename(columns = {'ad_id': 'id_anuncio', 'xyz_campaign_id': 'id_campanha', 'fb_campaign_id': 'id_fb_campanha',\n",
        "                     'age': 'idade', 'gender': 'genero', 'interest': 'interesse', 'Impressions': 'numero_exibicoes',\n",
        "                     'Clicks': 'cliques_no_anuncio', 'Spent': 'valor_pago_anuncio', 'Total_Conversion': 'conversao',\n",
        "                     'Approved_Conversion': 'compras'}, inplace = True)"
      ],
      "execution_count": 90,
      "outputs": []
    },
    {
      "cell_type": "code",
      "metadata": {
        "colab": {
          "base_uri": "https://localhost:8080/",
          "height": 227
        },
        "id": "cLlNI_WPN1Jt",
        "outputId": "d4da82b9-6da1-4127-ce88-73daf943bf97"
      },
      "source": [
        "df.head()"
      ],
      "execution_count": 91,
      "outputs": [
        {
          "output_type": "execute_result",
          "data": {
            "text/html": [
              "<div>\n",
              "<style scoped>\n",
              "    .dataframe tbody tr th:only-of-type {\n",
              "        vertical-align: middle;\n",
              "    }\n",
              "\n",
              "    .dataframe tbody tr th {\n",
              "        vertical-align: top;\n",
              "    }\n",
              "\n",
              "    .dataframe thead th {\n",
              "        text-align: right;\n",
              "    }\n",
              "</style>\n",
              "<table border=\"1\" class=\"dataframe\">\n",
              "  <thead>\n",
              "    <tr style=\"text-align: right;\">\n",
              "      <th></th>\n",
              "      <th>id_anuncio</th>\n",
              "      <th>id_campanha</th>\n",
              "      <th>id_fb_campanha</th>\n",
              "      <th>idade</th>\n",
              "      <th>genero</th>\n",
              "      <th>interesse</th>\n",
              "      <th>numero_exibicoes</th>\n",
              "      <th>cliques_no_anuncio</th>\n",
              "      <th>valor_pago_anuncio</th>\n",
              "      <th>conversao</th>\n",
              "      <th>compras</th>\n",
              "    </tr>\n",
              "  </thead>\n",
              "  <tbody>\n",
              "    <tr>\n",
              "      <th>0</th>\n",
              "      <td>708746</td>\n",
              "      <td>916</td>\n",
              "      <td>103916</td>\n",
              "      <td>30-34</td>\n",
              "      <td>M</td>\n",
              "      <td>15</td>\n",
              "      <td>7350</td>\n",
              "      <td>1</td>\n",
              "      <td>1.43</td>\n",
              "      <td>2</td>\n",
              "      <td>1</td>\n",
              "    </tr>\n",
              "    <tr>\n",
              "      <th>1</th>\n",
              "      <td>708749</td>\n",
              "      <td>916</td>\n",
              "      <td>103917</td>\n",
              "      <td>30-34</td>\n",
              "      <td>M</td>\n",
              "      <td>16</td>\n",
              "      <td>17861</td>\n",
              "      <td>2</td>\n",
              "      <td>1.82</td>\n",
              "      <td>2</td>\n",
              "      <td>0</td>\n",
              "    </tr>\n",
              "    <tr>\n",
              "      <th>2</th>\n",
              "      <td>708771</td>\n",
              "      <td>916</td>\n",
              "      <td>103920</td>\n",
              "      <td>30-34</td>\n",
              "      <td>M</td>\n",
              "      <td>20</td>\n",
              "      <td>693</td>\n",
              "      <td>0</td>\n",
              "      <td>0.00</td>\n",
              "      <td>1</td>\n",
              "      <td>0</td>\n",
              "    </tr>\n",
              "    <tr>\n",
              "      <th>3</th>\n",
              "      <td>708815</td>\n",
              "      <td>916</td>\n",
              "      <td>103928</td>\n",
              "      <td>30-34</td>\n",
              "      <td>M</td>\n",
              "      <td>28</td>\n",
              "      <td>4259</td>\n",
              "      <td>1</td>\n",
              "      <td>1.25</td>\n",
              "      <td>1</td>\n",
              "      <td>0</td>\n",
              "    </tr>\n",
              "    <tr>\n",
              "      <th>4</th>\n",
              "      <td>708818</td>\n",
              "      <td>916</td>\n",
              "      <td>103928</td>\n",
              "      <td>30-34</td>\n",
              "      <td>M</td>\n",
              "      <td>28</td>\n",
              "      <td>4133</td>\n",
              "      <td>1</td>\n",
              "      <td>1.29</td>\n",
              "      <td>1</td>\n",
              "      <td>1</td>\n",
              "    </tr>\n",
              "  </tbody>\n",
              "</table>\n",
              "</div>"
            ],
            "text/plain": [
              "   id_anuncio  id_campanha  ...  conversao compras\n",
              "0      708746          916  ...          2       1\n",
              "1      708749          916  ...          2       0\n",
              "2      708771          916  ...          1       0\n",
              "3      708815          916  ...          1       0\n",
              "4      708818          916  ...          1       1\n",
              "\n",
              "[5 rows x 11 columns]"
            ]
          },
          "metadata": {
            "tags": []
          },
          "execution_count": 91
        }
      ]
    },
    {
      "cell_type": "code",
      "metadata": {
        "colab": {
          "base_uri": "https://localhost:8080/"
        },
        "id": "exNCghp0OD40",
        "outputId": "732f4ef6-ffc5-42ba-fc0f-9daa6aacc085"
      },
      "source": [
        "df.columns"
      ],
      "execution_count": 92,
      "outputs": [
        {
          "output_type": "execute_result",
          "data": {
            "text/plain": [
              "Index(['id_anuncio', 'id_campanha', 'id_fb_campanha', 'idade', 'genero',\n",
              "       'interesse', 'numero_exibicoes', 'cliques_no_anuncio',\n",
              "       'valor_pago_anuncio', 'conversao', 'compras'],\n",
              "      dtype='object')"
            ]
          },
          "metadata": {
            "tags": []
          },
          "execution_count": 92
        }
      ]
    },
    {
      "cell_type": "markdown",
      "metadata": {
        "id": "4E1PmIdSOlto"
      },
      "source": [
        "# Informações estatísticas"
      ]
    },
    {
      "cell_type": "code",
      "metadata": {
        "colab": {
          "base_uri": "https://localhost:8080/",
          "height": 321
        },
        "id": "pREmDQNiOnUa",
        "outputId": "41f44e9e-9596-4eb7-8cdf-c3adbf440d0d"
      },
      "source": [
        "df.describe()"
      ],
      "execution_count": 93,
      "outputs": [
        {
          "output_type": "execute_result",
          "data": {
            "text/html": [
              "<div>\n",
              "<style scoped>\n",
              "    .dataframe tbody tr th:only-of-type {\n",
              "        vertical-align: middle;\n",
              "    }\n",
              "\n",
              "    .dataframe tbody tr th {\n",
              "        vertical-align: top;\n",
              "    }\n",
              "\n",
              "    .dataframe thead th {\n",
              "        text-align: right;\n",
              "    }\n",
              "</style>\n",
              "<table border=\"1\" class=\"dataframe\">\n",
              "  <thead>\n",
              "    <tr style=\"text-align: right;\">\n",
              "      <th></th>\n",
              "      <th>id_anuncio</th>\n",
              "      <th>id_campanha</th>\n",
              "      <th>id_fb_campanha</th>\n",
              "      <th>interesse</th>\n",
              "      <th>numero_exibicoes</th>\n",
              "      <th>cliques_no_anuncio</th>\n",
              "      <th>valor_pago_anuncio</th>\n",
              "      <th>conversao</th>\n",
              "      <th>compras</th>\n",
              "    </tr>\n",
              "  </thead>\n",
              "  <tbody>\n",
              "    <tr>\n",
              "      <th>count</th>\n",
              "      <td>1.143000e+03</td>\n",
              "      <td>1143.000000</td>\n",
              "      <td>1143.000000</td>\n",
              "      <td>1143.000000</td>\n",
              "      <td>1.143000e+03</td>\n",
              "      <td>1143.000000</td>\n",
              "      <td>1143.000000</td>\n",
              "      <td>1143.000000</td>\n",
              "      <td>1143.000000</td>\n",
              "    </tr>\n",
              "    <tr>\n",
              "      <th>mean</th>\n",
              "      <td>9.872611e+05</td>\n",
              "      <td>1067.382327</td>\n",
              "      <td>133783.989501</td>\n",
              "      <td>32.766404</td>\n",
              "      <td>1.867321e+05</td>\n",
              "      <td>33.390201</td>\n",
              "      <td>51.360656</td>\n",
              "      <td>2.855643</td>\n",
              "      <td>0.944007</td>\n",
              "    </tr>\n",
              "    <tr>\n",
              "      <th>std</th>\n",
              "      <td>1.939928e+05</td>\n",
              "      <td>121.629393</td>\n",
              "      <td>20500.308622</td>\n",
              "      <td>26.952131</td>\n",
              "      <td>3.127622e+05</td>\n",
              "      <td>56.892438</td>\n",
              "      <td>86.908418</td>\n",
              "      <td>4.483593</td>\n",
              "      <td>1.737708</td>\n",
              "    </tr>\n",
              "    <tr>\n",
              "      <th>min</th>\n",
              "      <td>7.087460e+05</td>\n",
              "      <td>916.000000</td>\n",
              "      <td>103916.000000</td>\n",
              "      <td>2.000000</td>\n",
              "      <td>8.700000e+01</td>\n",
              "      <td>0.000000</td>\n",
              "      <td>0.000000</td>\n",
              "      <td>0.000000</td>\n",
              "      <td>0.000000</td>\n",
              "    </tr>\n",
              "    <tr>\n",
              "      <th>25%</th>\n",
              "      <td>7.776325e+05</td>\n",
              "      <td>936.000000</td>\n",
              "      <td>115716.000000</td>\n",
              "      <td>16.000000</td>\n",
              "      <td>6.503500e+03</td>\n",
              "      <td>1.000000</td>\n",
              "      <td>1.480000</td>\n",
              "      <td>1.000000</td>\n",
              "      <td>0.000000</td>\n",
              "    </tr>\n",
              "    <tr>\n",
              "      <th>50%</th>\n",
              "      <td>1.121185e+06</td>\n",
              "      <td>1178.000000</td>\n",
              "      <td>144549.000000</td>\n",
              "      <td>25.000000</td>\n",
              "      <td>5.150900e+04</td>\n",
              "      <td>8.000000</td>\n",
              "      <td>12.370000</td>\n",
              "      <td>1.000000</td>\n",
              "      <td>1.000000</td>\n",
              "    </tr>\n",
              "    <tr>\n",
              "      <th>75%</th>\n",
              "      <td>1.121804e+06</td>\n",
              "      <td>1178.000000</td>\n",
              "      <td>144657.500000</td>\n",
              "      <td>31.000000</td>\n",
              "      <td>2.217690e+05</td>\n",
              "      <td>37.500000</td>\n",
              "      <td>60.025000</td>\n",
              "      <td>3.000000</td>\n",
              "      <td>1.000000</td>\n",
              "    </tr>\n",
              "    <tr>\n",
              "      <th>max</th>\n",
              "      <td>1.314415e+06</td>\n",
              "      <td>1178.000000</td>\n",
              "      <td>179982.000000</td>\n",
              "      <td>114.000000</td>\n",
              "      <td>3.052003e+06</td>\n",
              "      <td>421.000000</td>\n",
              "      <td>639.949998</td>\n",
              "      <td>60.000000</td>\n",
              "      <td>21.000000</td>\n",
              "    </tr>\n",
              "  </tbody>\n",
              "</table>\n",
              "</div>"
            ],
            "text/plain": [
              "         id_anuncio  id_campanha  ...    conversao      compras\n",
              "count  1.143000e+03  1143.000000  ...  1143.000000  1143.000000\n",
              "mean   9.872611e+05  1067.382327  ...     2.855643     0.944007\n",
              "std    1.939928e+05   121.629393  ...     4.483593     1.737708\n",
              "min    7.087460e+05   916.000000  ...     0.000000     0.000000\n",
              "25%    7.776325e+05   936.000000  ...     1.000000     0.000000\n",
              "50%    1.121185e+06  1178.000000  ...     1.000000     1.000000\n",
              "75%    1.121804e+06  1178.000000  ...     3.000000     1.000000\n",
              "max    1.314415e+06  1178.000000  ...    60.000000    21.000000\n",
              "\n",
              "[8 rows x 9 columns]"
            ]
          },
          "metadata": {
            "tags": []
          },
          "execution_count": 93
        }
      ]
    },
    {
      "cell_type": "code",
      "metadata": {
        "colab": {
          "base_uri": "https://localhost:8080/",
          "height": 415
        },
        "id": "wZuP2f4AO6eR",
        "outputId": "a034506b-7f12-432f-e406-87f76b27bd17"
      },
      "source": [
        "df.describe(include='all')"
      ],
      "execution_count": 94,
      "outputs": [
        {
          "output_type": "execute_result",
          "data": {
            "text/html": [
              "<div>\n",
              "<style scoped>\n",
              "    .dataframe tbody tr th:only-of-type {\n",
              "        vertical-align: middle;\n",
              "    }\n",
              "\n",
              "    .dataframe tbody tr th {\n",
              "        vertical-align: top;\n",
              "    }\n",
              "\n",
              "    .dataframe thead th {\n",
              "        text-align: right;\n",
              "    }\n",
              "</style>\n",
              "<table border=\"1\" class=\"dataframe\">\n",
              "  <thead>\n",
              "    <tr style=\"text-align: right;\">\n",
              "      <th></th>\n",
              "      <th>id_anuncio</th>\n",
              "      <th>id_campanha</th>\n",
              "      <th>id_fb_campanha</th>\n",
              "      <th>idade</th>\n",
              "      <th>genero</th>\n",
              "      <th>interesse</th>\n",
              "      <th>numero_exibicoes</th>\n",
              "      <th>cliques_no_anuncio</th>\n",
              "      <th>valor_pago_anuncio</th>\n",
              "      <th>conversao</th>\n",
              "      <th>compras</th>\n",
              "    </tr>\n",
              "  </thead>\n",
              "  <tbody>\n",
              "    <tr>\n",
              "      <th>count</th>\n",
              "      <td>1.143000e+03</td>\n",
              "      <td>1143.000000</td>\n",
              "      <td>1143.000000</td>\n",
              "      <td>1143</td>\n",
              "      <td>1143</td>\n",
              "      <td>1143.000000</td>\n",
              "      <td>1.143000e+03</td>\n",
              "      <td>1143.000000</td>\n",
              "      <td>1143.000000</td>\n",
              "      <td>1143.000000</td>\n",
              "      <td>1143.000000</td>\n",
              "    </tr>\n",
              "    <tr>\n",
              "      <th>unique</th>\n",
              "      <td>NaN</td>\n",
              "      <td>NaN</td>\n",
              "      <td>NaN</td>\n",
              "      <td>4</td>\n",
              "      <td>2</td>\n",
              "      <td>NaN</td>\n",
              "      <td>NaN</td>\n",
              "      <td>NaN</td>\n",
              "      <td>NaN</td>\n",
              "      <td>NaN</td>\n",
              "      <td>NaN</td>\n",
              "    </tr>\n",
              "    <tr>\n",
              "      <th>top</th>\n",
              "      <td>NaN</td>\n",
              "      <td>NaN</td>\n",
              "      <td>NaN</td>\n",
              "      <td>30-34</td>\n",
              "      <td>M</td>\n",
              "      <td>NaN</td>\n",
              "      <td>NaN</td>\n",
              "      <td>NaN</td>\n",
              "      <td>NaN</td>\n",
              "      <td>NaN</td>\n",
              "      <td>NaN</td>\n",
              "    </tr>\n",
              "    <tr>\n",
              "      <th>freq</th>\n",
              "      <td>NaN</td>\n",
              "      <td>NaN</td>\n",
              "      <td>NaN</td>\n",
              "      <td>426</td>\n",
              "      <td>592</td>\n",
              "      <td>NaN</td>\n",
              "      <td>NaN</td>\n",
              "      <td>NaN</td>\n",
              "      <td>NaN</td>\n",
              "      <td>NaN</td>\n",
              "      <td>NaN</td>\n",
              "    </tr>\n",
              "    <tr>\n",
              "      <th>mean</th>\n",
              "      <td>9.872611e+05</td>\n",
              "      <td>1067.382327</td>\n",
              "      <td>133783.989501</td>\n",
              "      <td>NaN</td>\n",
              "      <td>NaN</td>\n",
              "      <td>32.766404</td>\n",
              "      <td>1.867321e+05</td>\n",
              "      <td>33.390201</td>\n",
              "      <td>51.360656</td>\n",
              "      <td>2.855643</td>\n",
              "      <td>0.944007</td>\n",
              "    </tr>\n",
              "    <tr>\n",
              "      <th>std</th>\n",
              "      <td>1.939928e+05</td>\n",
              "      <td>121.629393</td>\n",
              "      <td>20500.308622</td>\n",
              "      <td>NaN</td>\n",
              "      <td>NaN</td>\n",
              "      <td>26.952131</td>\n",
              "      <td>3.127622e+05</td>\n",
              "      <td>56.892438</td>\n",
              "      <td>86.908418</td>\n",
              "      <td>4.483593</td>\n",
              "      <td>1.737708</td>\n",
              "    </tr>\n",
              "    <tr>\n",
              "      <th>min</th>\n",
              "      <td>7.087460e+05</td>\n",
              "      <td>916.000000</td>\n",
              "      <td>103916.000000</td>\n",
              "      <td>NaN</td>\n",
              "      <td>NaN</td>\n",
              "      <td>2.000000</td>\n",
              "      <td>8.700000e+01</td>\n",
              "      <td>0.000000</td>\n",
              "      <td>0.000000</td>\n",
              "      <td>0.000000</td>\n",
              "      <td>0.000000</td>\n",
              "    </tr>\n",
              "    <tr>\n",
              "      <th>25%</th>\n",
              "      <td>7.776325e+05</td>\n",
              "      <td>936.000000</td>\n",
              "      <td>115716.000000</td>\n",
              "      <td>NaN</td>\n",
              "      <td>NaN</td>\n",
              "      <td>16.000000</td>\n",
              "      <td>6.503500e+03</td>\n",
              "      <td>1.000000</td>\n",
              "      <td>1.480000</td>\n",
              "      <td>1.000000</td>\n",
              "      <td>0.000000</td>\n",
              "    </tr>\n",
              "    <tr>\n",
              "      <th>50%</th>\n",
              "      <td>1.121185e+06</td>\n",
              "      <td>1178.000000</td>\n",
              "      <td>144549.000000</td>\n",
              "      <td>NaN</td>\n",
              "      <td>NaN</td>\n",
              "      <td>25.000000</td>\n",
              "      <td>5.150900e+04</td>\n",
              "      <td>8.000000</td>\n",
              "      <td>12.370000</td>\n",
              "      <td>1.000000</td>\n",
              "      <td>1.000000</td>\n",
              "    </tr>\n",
              "    <tr>\n",
              "      <th>75%</th>\n",
              "      <td>1.121804e+06</td>\n",
              "      <td>1178.000000</td>\n",
              "      <td>144657.500000</td>\n",
              "      <td>NaN</td>\n",
              "      <td>NaN</td>\n",
              "      <td>31.000000</td>\n",
              "      <td>2.217690e+05</td>\n",
              "      <td>37.500000</td>\n",
              "      <td>60.025000</td>\n",
              "      <td>3.000000</td>\n",
              "      <td>1.000000</td>\n",
              "    </tr>\n",
              "    <tr>\n",
              "      <th>max</th>\n",
              "      <td>1.314415e+06</td>\n",
              "      <td>1178.000000</td>\n",
              "      <td>179982.000000</td>\n",
              "      <td>NaN</td>\n",
              "      <td>NaN</td>\n",
              "      <td>114.000000</td>\n",
              "      <td>3.052003e+06</td>\n",
              "      <td>421.000000</td>\n",
              "      <td>639.949998</td>\n",
              "      <td>60.000000</td>\n",
              "      <td>21.000000</td>\n",
              "    </tr>\n",
              "  </tbody>\n",
              "</table>\n",
              "</div>"
            ],
            "text/plain": [
              "          id_anuncio  id_campanha  ...    conversao      compras\n",
              "count   1.143000e+03  1143.000000  ...  1143.000000  1143.000000\n",
              "unique           NaN          NaN  ...          NaN          NaN\n",
              "top              NaN          NaN  ...          NaN          NaN\n",
              "freq             NaN          NaN  ...          NaN          NaN\n",
              "mean    9.872611e+05  1067.382327  ...     2.855643     0.944007\n",
              "std     1.939928e+05   121.629393  ...     4.483593     1.737708\n",
              "min     7.087460e+05   916.000000  ...     0.000000     0.000000\n",
              "25%     7.776325e+05   936.000000  ...     1.000000     0.000000\n",
              "50%     1.121185e+06  1178.000000  ...     1.000000     1.000000\n",
              "75%     1.121804e+06  1178.000000  ...     3.000000     1.000000\n",
              "max     1.314415e+06  1178.000000  ...    60.000000    21.000000\n",
              "\n",
              "[11 rows x 11 columns]"
            ]
          },
          "metadata": {
            "tags": []
          },
          "execution_count": 94
        }
      ]
    },
    {
      "cell_type": "markdown",
      "metadata": {
        "id": "N1zPSwbsP0e-"
      },
      "source": [
        "#### Dados faltantes"
      ]
    },
    {
      "cell_type": "code",
      "metadata": {
        "colab": {
          "base_uri": "https://localhost:8080/"
        },
        "id": "vafHBtpzP2mS",
        "outputId": "78f001c3-869d-45ff-9284-8cfc20876778"
      },
      "source": [
        "df.isnull().sum()"
      ],
      "execution_count": 95,
      "outputs": [
        {
          "output_type": "execute_result",
          "data": {
            "text/plain": [
              "id_anuncio            0\n",
              "id_campanha           0\n",
              "id_fb_campanha        0\n",
              "idade                 0\n",
              "genero                0\n",
              "interesse             0\n",
              "numero_exibicoes      0\n",
              "cliques_no_anuncio    0\n",
              "valor_pago_anuncio    0\n",
              "conversao             0\n",
              "compras               0\n",
              "dtype: int64"
            ]
          },
          "metadata": {
            "tags": []
          },
          "execution_count": 95
        }
      ]
    },
    {
      "cell_type": "code",
      "metadata": {
        "colab": {
          "base_uri": "https://localhost:8080/",
          "height": 286
        },
        "id": "NO4fhluRP8nU",
        "outputId": "888477b6-54e1-4a6b-8f05-791454e6a5e1"
      },
      "source": [
        "missingno.matrix(df, figsize=(30,10))"
      ],
      "execution_count": 96,
      "outputs": [
        {
          "output_type": "execute_result",
          "data": {
            "text/plain": [
              "<matplotlib.axes._subplots.AxesSubplot at 0x7ff1a3e7a7d0>"
            ]
          },
          "metadata": {
            "tags": []
          },
          "execution_count": 96
        },
        {
          "output_type": "display_data",
          "data": {
            "image/png": "[encoded data removed]",
            "text/plain": [
              "<Figure size 2160x720 with 2 Axes>"
            ]
          },
          "metadata": {
            "tags": [],
            "needs_background": "light"
          }
        }
      ]
    },
    {
      "cell_type": "markdown",
      "metadata": {
        "id": "sgf5uAS_R6VJ"
      },
      "source": [
        "Outliers"
      ]
    },
    {
      "cell_type": "code",
      "metadata": {
        "colab": {
          "base_uri": "https://localhost:8080/",
          "height": 232
        },
        "id": "2d9Ot4aMQlpr",
        "outputId": "b7bdc0da-d019-454b-9bbb-365a5982b544"
      },
      "source": [
        "plt.figure(figsize=(30,10))\n",
        "df.boxplot()\n",
        "plt.show()"
      ],
      "execution_count": 100,
      "outputs": [
        {
          "output_type": "display_data",
          "data": {
            "image/png": "[encoded data removed]",
            "text/plain": [
              "<Figure size 2160x720 with 1 Axes>"
            ]
          },
          "metadata": {
            "tags": [],
            "needs_background": "light"
          }
        }
      ]
    },
    {
      "cell_type": "markdown",
      "metadata": {
        "id": "-t44B4JJTFhq"
      },
      "source": [
        "#### Duplitas"
      ]
    },
    {
      "cell_type": "code",
      "metadata": {
        "colab": {
          "base_uri": "https://localhost:8080/",
          "height": 70
        },
        "id": "cx7ZIP5kTHyW",
        "outputId": "defe4c48-92cb-4b9b-85e4-4451fbb3030e"
      },
      "source": [
        "df[df.duplicated()]"
      ],
      "execution_count": 103,
      "outputs": [
        {
          "output_type": "execute_result",
          "data": {
            "text/html": [
              "<div>\n",
              "<style scoped>\n",
              "    .dataframe tbody tr th:only-of-type {\n",
              "        vertical-align: middle;\n",
              "    }\n",
              "\n",
              "    .dataframe tbody tr th {\n",
              "        vertical-align: top;\n",
              "    }\n",
              "\n",
              "    .dataframe thead th {\n",
              "        text-align: right;\n",
              "    }\n",
              "</style>\n",
              "<table border=\"1\" class=\"dataframe\">\n",
              "  <thead>\n",
              "    <tr style=\"text-align: right;\">\n",
              "      <th></th>\n",
              "      <th>id_anuncio</th>\n",
              "      <th>id_campanha</th>\n",
              "      <th>id_fb_campanha</th>\n",
              "      <th>idade</th>\n",
              "      <th>genero</th>\n",
              "      <th>interesse</th>\n",
              "      <th>numero_exibicoes</th>\n",
              "      <th>cliques_no_anuncio</th>\n",
              "      <th>valor_pago_anuncio</th>\n",
              "      <th>conversao</th>\n",
              "      <th>compras</th>\n",
              "    </tr>\n",
              "  </thead>\n",
              "  <tbody>\n",
              "  </tbody>\n",
              "</table>\n",
              "</div>"
            ],
            "text/plain": [
              "Empty DataFrame\n",
              "Columns: [id_anuncio, id_campanha, id_fb_campanha, idade, genero, interesse, numero_exibicoes, cliques_no_anuncio, valor_pago_anuncio, conversao, compras]\n",
              "Index: []"
            ]
          },
          "metadata": {
            "tags": []
          },
          "execution_count": 103
        }
      ]
    },
    {
      "cell_type": "markdown",
      "metadata": {
        "id": "qF7sZC2pT9Q4"
      },
      "source": [
        "#### Matriz Correlação"
      ]
    },
    {
      "cell_type": "code",
      "metadata": {
        "colab": {
          "base_uri": "https://localhost:8080/",
          "height": 705
        },
        "id": "1HcomafUUAw8",
        "outputId": "c6521540-3848-4056-ee09-100ec44652b5"
      },
      "source": [
        "plt.figure(figsize=(12,10))\n",
        "corr_matrix = df.corr()\n",
        "sns.heatmap(corr_matrix, annot=True, cmap=plt.cm.Reds)\n",
        "plt.show()"
      ],
      "execution_count": 109,
      "outputs": [
        {
          "output_type": "display_data",
          "data": {
            "image/png": "[encoded data removed]",
            "text/plain": [
              "<Figure size 864x720 with 2 Axes>"
            ]
          },
          "metadata": {
            "tags": [],
            "needs_background": "light"
          }
        }
      ]
    },
    {
      "cell_type": "markdown",
      "metadata": {
        "id": "2cBDSUm8VaTs"
      },
      "source": [
        "#### Avaliando as Features (Colunas)"
      ]
    },
    {
      "cell_type": "code",
      "metadata": {
        "id": "Z3Eu6REjVemi"
      },
      "source": [
        ""
      ],
      "execution_count": null,
      "outputs": []
    },
    {
      "cell_type": "markdown",
      "metadata": {
        "id": "4tI0Ej35Yk1E"
      },
      "source": [
        "id_campanha - ID associada a cada campanha publicitária da empresa XYZ"
      ]
    },
    {
      "cell_type": "code",
      "metadata": {
        "colab": {
          "base_uri": "https://localhost:8080/"
        },
        "id": "kvBY9PY8Yoho",
        "outputId": "295d8449-371f-48ca-955c-a7b624e6a01d"
      },
      "source": [
        "df['id_campanha'].nunique()"
      ],
      "execution_count": 111,
      "outputs": [
        {
          "output_type": "execute_result",
          "data": {
            "text/plain": [
              "3"
            ]
          },
          "metadata": {
            "tags": []
          },
          "execution_count": 111
        }
      ]
    },
    {
      "cell_type": "code",
      "metadata": {
        "colab": {
          "base_uri": "https://localhost:8080/"
        },
        "id": "O-x5tMwYYuu2",
        "outputId": "bee7c679-a491-41a6-8019-96bb4730dc7e"
      },
      "source": [
        "df['id_campanha'].nunique()"
      ],
      "execution_count": 112,
      "outputs": [
        {
          "output_type": "execute_result",
          "data": {
            "text/plain": [
              "3"
            ]
          },
          "metadata": {
            "tags": []
          },
          "execution_count": 112
        }
      ]
    },
    {
      "cell_type": "code",
      "metadata": {
        "id": "6SiHmKKzY4Mk"
      },
      "source": [
        "df['id_campanha'].replace({916:'Campanha_1', 936:'Campanha_2', 1178: 'Campanha_3'}, inplace=True)"
      ],
      "execution_count": 113,
      "outputs": []
    },
    {
      "cell_type": "code",
      "metadata": {
        "colab": {
          "base_uri": "https://localhost:8080/",
          "height": 227
        },
        "id": "Jr5l8KffZJT4",
        "outputId": "0a271b26-a6f8-4292-d892-6a2b24af9aa7"
      },
      "source": [
        "df.head()"
      ],
      "execution_count": 114,
      "outputs": [
        {
          "output_type": "execute_result",
          "data": {
            "text/html": [
              "<div>\n",
              "<style scoped>\n",
              "    .dataframe tbody tr th:only-of-type {\n",
              "        vertical-align: middle;\n",
              "    }\n",
              "\n",
              "    .dataframe tbody tr th {\n",
              "        vertical-align: top;\n",
              "    }\n",
              "\n",
              "    .dataframe thead th {\n",
              "        text-align: right;\n",
              "    }\n",
              "</style>\n",
              "<table border=\"1\" class=\"dataframe\">\n",
              "  <thead>\n",
              "    <tr style=\"text-align: right;\">\n",
              "      <th></th>\n",
              "      <th>id_anuncio</th>\n",
              "      <th>id_campanha</th>\n",
              "      <th>id_fb_campanha</th>\n",
              "      <th>idade</th>\n",
              "      <th>genero</th>\n",
              "      <th>interesse</th>\n",
              "      <th>numero_exibicoes</th>\n",
              "      <th>cliques_no_anuncio</th>\n",
              "      <th>valor_pago_anuncio</th>\n",
              "      <th>conversao</th>\n",
              "      <th>compras</th>\n",
              "    </tr>\n",
              "  </thead>\n",
              "  <tbody>\n",
              "    <tr>\n",
              "      <th>0</th>\n",
              "      <td>708746</td>\n",
              "      <td>Campanha_1</td>\n",
              "      <td>103916</td>\n",
              "      <td>30-34</td>\n",
              "      <td>M</td>\n",
              "      <td>15</td>\n",
              "      <td>7350</td>\n",
              "      <td>1</td>\n",
              "      <td>1.43</td>\n",
              "      <td>2</td>\n",
              "      <td>1</td>\n",
              "    </tr>\n",
              "    <tr>\n",
              "      <th>1</th>\n",
              "      <td>708749</td>\n",
              "      <td>Campanha_1</td>\n",
              "      <td>103917</td>\n",
              "      <td>30-34</td>\n",
              "      <td>M</td>\n",
              "      <td>16</td>\n",
              "      <td>17861</td>\n",
              "      <td>2</td>\n",
              "      <td>1.82</td>\n",
              "      <td>2</td>\n",
              "      <td>0</td>\n",
              "    </tr>\n",
              "    <tr>\n",
              "      <th>2</th>\n",
              "      <td>708771</td>\n",
              "      <td>Campanha_1</td>\n",
              "      <td>103920</td>\n",
              "      <td>30-34</td>\n",
              "      <td>M</td>\n",
              "      <td>20</td>\n",
              "      <td>693</td>\n",
              "      <td>0</td>\n",
              "      <td>0.00</td>\n",
              "      <td>1</td>\n",
              "      <td>0</td>\n",
              "    </tr>\n",
              "    <tr>\n",
              "      <th>3</th>\n",
              "      <td>708815</td>\n",
              "      <td>Campanha_1</td>\n",
              "      <td>103928</td>\n",
              "      <td>30-34</td>\n",
              "      <td>M</td>\n",
              "      <td>28</td>\n",
              "      <td>4259</td>\n",
              "      <td>1</td>\n",
              "      <td>1.25</td>\n",
              "      <td>1</td>\n",
              "      <td>0</td>\n",
              "    </tr>\n",
              "    <tr>\n",
              "      <th>4</th>\n",
              "      <td>708818</td>\n",
              "      <td>Campanha_1</td>\n",
              "      <td>103928</td>\n",
              "      <td>30-34</td>\n",
              "      <td>M</td>\n",
              "      <td>28</td>\n",
              "      <td>4133</td>\n",
              "      <td>1</td>\n",
              "      <td>1.29</td>\n",
              "      <td>1</td>\n",
              "      <td>1</td>\n",
              "    </tr>\n",
              "  </tbody>\n",
              "</table>\n",
              "</div>"
            ],
            "text/plain": [
              "   id_anuncio id_campanha  ...  conversao compras\n",
              "0      708746  Campanha_1  ...          2       1\n",
              "1      708749  Campanha_1  ...          2       0\n",
              "2      708771  Campanha_1  ...          1       0\n",
              "3      708815  Campanha_1  ...          1       0\n",
              "4      708818  Campanha_1  ...          1       1\n",
              "\n",
              "[5 rows x 11 columns]"
            ]
          },
          "metadata": {
            "tags": []
          },
          "execution_count": 114
        }
      ]
    },
    {
      "cell_type": "code",
      "metadata": {
        "colab": {
          "base_uri": "https://localhost:8080/",
          "height": 549
        },
        "id": "kaiMaw9QZMEU",
        "outputId": "e94cd582-737e-4d24-e02c-4ce45d2db9f1"
      },
      "source": [
        "plt.figure(figsize=(12,10))\n",
        "sns.countplot(x='id_campanha', data=df)"
      ],
      "execution_count": 116,
      "outputs": [
        {
          "output_type": "execute_result",
          "data": {
            "text/plain": [
              "<matplotlib.axes._subplots.AxesSubplot at 0x7ff19d8b9dd0>"
            ]
          },
          "metadata": {
            "tags": []
          },
          "execution_count": 116
        },
        {
          "output_type": "display_data",
          "data": {
            "image/png": "[encoded data removed]",
            "text/plain": [
              "<Figure size 864x720 with 1 Axes>"
            ]
          },
          "metadata": {
            "tags": [],
            "needs_background": "light"
          }
        }
      ]
    },
    {
      "cell_type": "markdown",
      "metadata": {
        "id": "C6M62pZKZnAj"
      },
      "source": [
        "campanha_3 tem o maior número de anúncios"
      ]
    },
    {
      "cell_type": "code",
      "metadata": {
        "colab": {
          "base_uri": "https://localhost:8080/",
          "height": 526
        },
        "id": "yNltUcUhZqVr",
        "outputId": "c77c91a8-72a3-4c44-c89f-42ca4dca0224"
      },
      "source": [
        "plt.figure(figsize=(12,10))\n",
        "plt.bar(df['id_campanha'], df['compras'])\n",
        "plt.ylabel(\"Compras\")\n",
        "plt.xlabel('Campnhas/Compras')\n",
        "\n",
        "plt.show()"
      ],
      "execution_count": 118,
      "outputs": [
        {
          "output_type": "display_data",
          "data": {
            "image/png": "[encoded data removed]",
            "text/plain": [
              "<Figure size 864x720 with 1 Axes>"
            ]
          },
          "metadata": {
            "tags": [],
            "needs_background": "light"
          }
        }
      ]
    },
    {
      "cell_type": "markdown",
      "metadata": {
        "id": "G9GE22qfaQGS"
      },
      "source": [
        "idade = idade da pessoa a quem o anúncio é mostrado.D"
      ]
    },
    {
      "cell_type": "code",
      "metadata": {
        "colab": {
          "base_uri": "https://localhost:8080/"
        },
        "id": "-cqlSAHwaTCk",
        "outputId": "73a6e87d-93f7-49f2-853e-1b001b75a0bc"
      },
      "source": [
        "df['idade'].nunique() # Quantas faixas etárias"
      ],
      "execution_count": 119,
      "outputs": [
        {
          "output_type": "execute_result",
          "data": {
            "text/plain": [
              "4"
            ]
          },
          "metadata": {
            "tags": []
          },
          "execution_count": 119
        }
      ]
    },
    {
      "cell_type": "code",
      "metadata": {
        "colab": {
          "base_uri": "https://localhost:8080/"
        },
        "id": "j0kHzxWLaW3o",
        "outputId": "105bfeb5-8ca7-4e47-b613-2840fedf5aa4"
      },
      "source": [
        "df['idade'].unique() # Em faixas etárias"
      ],
      "execution_count": 120,
      "outputs": [
        {
          "output_type": "execute_result",
          "data": {
            "text/plain": [
              "array(['30-34', '35-39', '40-44', '45-49'], dtype=object)"
            ]
          },
          "metadata": {
            "tags": []
          },
          "execution_count": 120
        }
      ]
    },
    {
      "cell_type": "code",
      "metadata": {
        "colab": {
          "base_uri": "https://localhost:8080/",
          "height": 529
        },
        "id": "PRH5vu4Oacnj",
        "outputId": "525605af-7f5b-4364-9be1-89965039352b"
      },
      "source": [
        "plt.figure(figsize=(12,10))\n",
        "sns.countplot(x = 'idade', data=df)\n",
        "plt.show()"
      ],
      "execution_count": 121,
      "outputs": [
        {
          "output_type": "display_data",
          "data": {
            "image/png": "[encoded data removed]",
            "text/plain": [
              "<Figure size 864x720 with 1 Axes>"
            ]
          },
          "metadata": {
            "tags": [],
            "needs_background": "light"
          }
        }
      ]
    },
    {
      "cell_type": "markdown",
      "metadata": {
        "id": "1CJ8_vDGaquq"
      },
      "source": [
        "#### Relacionando campanhas com idade"
      ]
    },
    {
      "cell_type": "code",
      "metadata": {
        "colab": {
          "base_uri": "https://localhost:8080/",
          "height": 532
        },
        "id": "HYgTrTuZatw9",
        "outputId": "971be246-3d49-4a34-e482-fb2b9903c6c6"
      },
      "source": [
        "plt.figure(figsize=(12,10))\n",
        "tips = sns.load_dataset(\"tips\")\n",
        "sns.barplot(x=df[\"id_campanha\"], y=df[\"compras\"], hue=df[\"idade\"], data=tips)\n",
        "plt.show()"
      ],
      "execution_count": 124,
      "outputs": [
        {
          "output_type": "display_data",
          "data": {
            "image/png": "[encoded data removed]",
            "text/plain": [
              "<Figure size 864x720 with 1 Axes>"
            ]
          },
          "metadata": {
            "tags": [],
            "needs_background": "light"
          }
        }
      ]
    },
    {
      "cell_type": "markdown",
      "metadata": {
        "id": "t_YrVU0nbk9F"
      },
      "source": [
        "Na campanha_3 e campanha_2 o grupo de 30-34 anos mostra mais interesse\n",
        "\n",
        "Na campanha_1 o grupo de 40-44 anos mostra mais interesse"
      ]
    },
    {
      "cell_type": "markdown",
      "metadata": {
        "id": "KBbDIE9nbrAA"
      },
      "source": [
        "##### gênero - sexo da pessoa que deseja que o anúncio seja mostrado"
      ]
    },
    {
      "cell_type": "code",
      "metadata": {
        "colab": {
          "base_uri": "https://localhost:8080/",
          "height": 529
        },
        "id": "lyYlQx41bsDu",
        "outputId": "c5a90f08-e40c-4c69-914c-8be10d6a14c7"
      },
      "source": [
        "plt.figure(figsize=(12,10))\n",
        "sns.countplot(x= \"genero\", data=df)\n",
        "plt.show()"
      ],
      "execution_count": 126,
      "outputs": [
        {
          "output_type": "display_data",
          "data": {
            "image/png": "[encoded data removed]",
            "text/plain": [
              "<Figure size 864x720 with 1 Axes>"
            ]
          },
          "metadata": {
            "tags": [],
            "needs_background": "light"
          }
        }
      ]
    },
    {
      "cell_type": "code",
      "metadata": {
        "colab": {
          "base_uri": "https://localhost:8080/",
          "height": 627
        },
        "id": "S4etjX3jbuPQ",
        "outputId": "802b4f46-c5b0-4642-eaff-cf7ad6cb1591"
      },
      "source": [
        "plt.figure(figsize=(12,10))\n",
        "tips = sns.load_dataset(\"tips\")\n",
        "sns.barplot(x=df[\"id_campanha\"], y=df[\"compras\"], hue=df[\"genero\"], data=tips)\n",
        "plt.show()"
      ],
      "execution_count": 128,
      "outputs": [
        {
          "output_type": "display_data",
          "data": {
            "image/png": "[encoded data removed]",
            "text/plain": [
              "<Figure size 864x720 with 1 Axes>"
            ]
          },
          "metadata": {
            "tags": [],
            "needs_background": "light"
          }
        }
      ]
    },
    {
      "cell_type": "markdown",
      "metadata": {
        "id": "oagKslk3ckfZ"
      },
      "source": [
        "#Etapa 4: Modelagem/Machine Learning"
      ]
    },
    {
      "cell_type": "code",
      "metadata": {
        "colab": {
          "base_uri": "https://localhost:8080/"
        },
        "id": "nVW0NvMxcodt",
        "outputId": "50fd7b76-f106-4492-b2df-c74e397389ba"
      },
      "source": [
        "df.shape"
      ],
      "execution_count": 130,
      "outputs": [
        {
          "output_type": "execute_result",
          "data": {
            "text/plain": [
              "(1143, 11)"
            ]
          },
          "metadata": {
            "tags": []
          },
          "execution_count": 130
        }
      ]
    },
    {
      "cell_type": "code",
      "metadata": {
        "id": "9I9HiM5ncq-S"
      },
      "source": [
        "amostra_df = df.sample(n=20)"
      ],
      "execution_count": 131,
      "outputs": []
    },
    {
      "cell_type": "code",
      "metadata": {
        "colab": {
          "base_uri": "https://localhost:8080/"
        },
        "id": "oQdYs14Kc0FY",
        "outputId": "f87215ee-4dd3-461d-fc03-9d2b1dc9a1f5"
      },
      "source": [
        "amostra_df.shape"
      ],
      "execution_count": 132,
      "outputs": [
        {
          "output_type": "execute_result",
          "data": {
            "text/plain": [
              "(20, 11)"
            ]
          },
          "metadata": {
            "tags": []
          },
          "execution_count": 132
        }
      ]
    },
    {
      "cell_type": "code",
      "metadata": {
        "colab": {
          "base_uri": "https://localhost:8080/",
          "height": 303
        },
        "id": "oydTScY2c2LL",
        "outputId": "a3ac09a0-49bb-42cd-ecdd-eada10f59244"
      },
      "source": [
        "sns.pairplot(amostra_df, x_vars=['cliques_no_anuncio'], y_vars=['valor_pago_anuncio'], height=4, kind='scatter')\n",
        "plt.show()"
      ],
      "execution_count": 134,
      "outputs": [
        {
          "output_type": "display_data",
          "data": {
            "image/png": "[encoded data removed]",
            "text/plain": [
              "<Figure size 288x288 with 1 Axes>"
            ]
          },
          "metadata": {
            "tags": [],
            "needs_background": "light"
          }
        }
      ]
    },
    {
      "cell_type": "code",
      "metadata": {
        "colab": {
          "base_uri": "https://localhost:8080/",
          "height": 303
        },
        "id": "uLTzIcdndin6",
        "outputId": "1ea91006-d740-473c-caf7-fda4265263e7"
      },
      "source": [
        "sns.pairplot(df, x_vars=['cliques_no_anuncio'], y_vars=['valor_pago_anuncio'], height=4, kind='scatter')\n",
        "plt.show()"
      ],
      "execution_count": 135,
      "outputs": [
        {
          "output_type": "display_data",
          "data": {
            "image/png": "[encoded data removed]",
            "text/plain": [
              "<Figure size 288x288 with 1 Axes>"
            ]
          },
          "metadata": {
            "tags": [],
            "needs_background": "light"
          }
        }
      ]
    },
    {
      "cell_type": "code",
      "metadata": {
        "colab": {
          "base_uri": "https://localhost:8080/",
          "height": 227
        },
        "id": "c83LMxJbd222",
        "outputId": "24912376-0071-4990-fca9-968cb9f0bddb"
      },
      "source": [
        "df.head()"
      ],
      "execution_count": 136,
      "outputs": [
        {
          "output_type": "execute_result",
          "data": {
            "text/html": [
              "<div>\n",
              "<style scoped>\n",
              "    .dataframe tbody tr th:only-of-type {\n",
              "        vertical-align: middle;\n",
              "    }\n",
              "\n",
              "    .dataframe tbody tr th {\n",
              "        vertical-align: top;\n",
              "    }\n",
              "\n",
              "    .dataframe thead th {\n",
              "        text-align: right;\n",
              "    }\n",
              "</style>\n",
              "<table border=\"1\" class=\"dataframe\">\n",
              "  <thead>\n",
              "    <tr style=\"text-align: right;\">\n",
              "      <th></th>\n",
              "      <th>id_anuncio</th>\n",
              "      <th>id_campanha</th>\n",
              "      <th>id_fb_campanha</th>\n",
              "      <th>idade</th>\n",
              "      <th>genero</th>\n",
              "      <th>interesse</th>\n",
              "      <th>numero_exibicoes</th>\n",
              "      <th>cliques_no_anuncio</th>\n",
              "      <th>valor_pago_anuncio</th>\n",
              "      <th>conversao</th>\n",
              "      <th>compras</th>\n",
              "    </tr>\n",
              "  </thead>\n",
              "  <tbody>\n",
              "    <tr>\n",
              "      <th>0</th>\n",
              "      <td>708746</td>\n",
              "      <td>Campanha_1</td>\n",
              "      <td>103916</td>\n",
              "      <td>30-34</td>\n",
              "      <td>M</td>\n",
              "      <td>15</td>\n",
              "      <td>7350</td>\n",
              "      <td>1</td>\n",
              "      <td>1.43</td>\n",
              "      <td>2</td>\n",
              "      <td>1</td>\n",
              "    </tr>\n",
              "    <tr>\n",
              "      <th>1</th>\n",
              "      <td>708749</td>\n",
              "      <td>Campanha_1</td>\n",
              "      <td>103917</td>\n",
              "      <td>30-34</td>\n",
              "      <td>M</td>\n",
              "      <td>16</td>\n",
              "      <td>17861</td>\n",
              "      <td>2</td>\n",
              "      <td>1.82</td>\n",
              "      <td>2</td>\n",
              "      <td>0</td>\n",
              "    </tr>\n",
              "    <tr>\n",
              "      <th>2</th>\n",
              "      <td>708771</td>\n",
              "      <td>Campanha_1</td>\n",
              "      <td>103920</td>\n",
              "      <td>30-34</td>\n",
              "      <td>M</td>\n",
              "      <td>20</td>\n",
              "      <td>693</td>\n",
              "      <td>0</td>\n",
              "      <td>0.00</td>\n",
              "      <td>1</td>\n",
              "      <td>0</td>\n",
              "    </tr>\n",
              "    <tr>\n",
              "      <th>3</th>\n",
              "      <td>708815</td>\n",
              "      <td>Campanha_1</td>\n",
              "      <td>103928</td>\n",
              "      <td>30-34</td>\n",
              "      <td>M</td>\n",
              "      <td>28</td>\n",
              "      <td>4259</td>\n",
              "      <td>1</td>\n",
              "      <td>1.25</td>\n",
              "      <td>1</td>\n",
              "      <td>0</td>\n",
              "    </tr>\n",
              "    <tr>\n",
              "      <th>4</th>\n",
              "      <td>708818</td>\n",
              "      <td>Campanha_1</td>\n",
              "      <td>103928</td>\n",
              "      <td>30-34</td>\n",
              "      <td>M</td>\n",
              "      <td>28</td>\n",
              "      <td>4133</td>\n",
              "      <td>1</td>\n",
              "      <td>1.29</td>\n",
              "      <td>1</td>\n",
              "      <td>1</td>\n",
              "    </tr>\n",
              "  </tbody>\n",
              "</table>\n",
              "</div>"
            ],
            "text/plain": [
              "   id_anuncio id_campanha  ...  conversao compras\n",
              "0      708746  Campanha_1  ...          2       1\n",
              "1      708749  Campanha_1  ...          2       0\n",
              "2      708771  Campanha_1  ...          1       0\n",
              "3      708815  Campanha_1  ...          1       0\n",
              "4      708818  Campanha_1  ...          1       1\n",
              "\n",
              "[5 rows x 11 columns]"
            ]
          },
          "metadata": {
            "tags": []
          },
          "execution_count": 136
        }
      ]
    },
    {
      "cell_type": "code",
      "metadata": {
        "id": "uzQ_BiV6eA3F"
      },
      "source": [
        "df = df.replace('30-34',0.0011)\n",
        "df = df.replace('35-39',0.0012)\n",
        "df = df.replace('40-44',0.0013)\n",
        "df = df.replace('45-49',0.0014)"
      ],
      "execution_count": 137,
      "outputs": []
    },
    {
      "cell_type": "code",
      "metadata": {
        "colab": {
          "base_uri": "https://localhost:8080/",
          "height": 227
        },
        "id": "EjHlA7UKeszP",
        "outputId": "216225dd-4239-4a2d-d64e-af80ab0075f6"
      },
      "source": [
        "df.tail()"
      ],
      "execution_count": 138,
      "outputs": [
        {
          "output_type": "execute_result",
          "data": {
            "text/html": [
              "<div>\n",
              "<style scoped>\n",
              "    .dataframe tbody tr th:only-of-type {\n",
              "        vertical-align: middle;\n",
              "    }\n",
              "\n",
              "    .dataframe tbody tr th {\n",
              "        vertical-align: top;\n",
              "    }\n",
              "\n",
              "    .dataframe thead th {\n",
              "        text-align: right;\n",
              "    }\n",
              "</style>\n",
              "<table border=\"1\" class=\"dataframe\">\n",
              "  <thead>\n",
              "    <tr style=\"text-align: right;\">\n",
              "      <th></th>\n",
              "      <th>id_anuncio</th>\n",
              "      <th>id_campanha</th>\n",
              "      <th>id_fb_campanha</th>\n",
              "      <th>idade</th>\n",
              "      <th>genero</th>\n",
              "      <th>interesse</th>\n",
              "      <th>numero_exibicoes</th>\n",
              "      <th>cliques_no_anuncio</th>\n",
              "      <th>valor_pago_anuncio</th>\n",
              "      <th>conversao</th>\n",
              "      <th>compras</th>\n",
              "    </tr>\n",
              "  </thead>\n",
              "  <tbody>\n",
              "    <tr>\n",
              "      <th>1138</th>\n",
              "      <td>1314410</td>\n",
              "      <td>Campanha_3</td>\n",
              "      <td>179977</td>\n",
              "      <td>0.0014</td>\n",
              "      <td>F</td>\n",
              "      <td>109</td>\n",
              "      <td>1129773</td>\n",
              "      <td>252</td>\n",
              "      <td>358.189997</td>\n",
              "      <td>13</td>\n",
              "      <td>2</td>\n",
              "    </tr>\n",
              "    <tr>\n",
              "      <th>1139</th>\n",
              "      <td>1314411</td>\n",
              "      <td>Campanha_3</td>\n",
              "      <td>179978</td>\n",
              "      <td>0.0014</td>\n",
              "      <td>F</td>\n",
              "      <td>110</td>\n",
              "      <td>637549</td>\n",
              "      <td>120</td>\n",
              "      <td>173.880003</td>\n",
              "      <td>3</td>\n",
              "      <td>0</td>\n",
              "    </tr>\n",
              "    <tr>\n",
              "      <th>1140</th>\n",
              "      <td>1314412</td>\n",
              "      <td>Campanha_3</td>\n",
              "      <td>179979</td>\n",
              "      <td>0.0014</td>\n",
              "      <td>F</td>\n",
              "      <td>111</td>\n",
              "      <td>151531</td>\n",
              "      <td>28</td>\n",
              "      <td>40.289999</td>\n",
              "      <td>2</td>\n",
              "      <td>0</td>\n",
              "    </tr>\n",
              "    <tr>\n",
              "      <th>1141</th>\n",
              "      <td>1314414</td>\n",
              "      <td>Campanha_3</td>\n",
              "      <td>179981</td>\n",
              "      <td>0.0014</td>\n",
              "      <td>F</td>\n",
              "      <td>113</td>\n",
              "      <td>790253</td>\n",
              "      <td>135</td>\n",
              "      <td>198.710000</td>\n",
              "      <td>8</td>\n",
              "      <td>2</td>\n",
              "    </tr>\n",
              "    <tr>\n",
              "      <th>1142</th>\n",
              "      <td>1314415</td>\n",
              "      <td>Campanha_3</td>\n",
              "      <td>179982</td>\n",
              "      <td>0.0014</td>\n",
              "      <td>F</td>\n",
              "      <td>114</td>\n",
              "      <td>513161</td>\n",
              "      <td>114</td>\n",
              "      <td>165.609999</td>\n",
              "      <td>5</td>\n",
              "      <td>2</td>\n",
              "    </tr>\n",
              "  </tbody>\n",
              "</table>\n",
              "</div>"
            ],
            "text/plain": [
              "      id_anuncio id_campanha  ...  conversao  compras\n",
              "1138     1314410  Campanha_3  ...         13        2\n",
              "1139     1314411  Campanha_3  ...          3        0\n",
              "1140     1314412  Campanha_3  ...          2        0\n",
              "1141     1314414  Campanha_3  ...          8        2\n",
              "1142     1314415  Campanha_3  ...          5        2\n",
              "\n",
              "[5 rows x 11 columns]"
            ]
          },
          "metadata": {
            "tags": []
          },
          "execution_count": 138
        }
      ]
    },
    {
      "cell_type": "code",
      "metadata": {
        "id": "7-Qk3zBreu0W"
      },
      "source": [
        "df = df.replace('M',1)\n",
        "df = df.replace('F',0)"
      ],
      "execution_count": 139,
      "outputs": []
    },
    {
      "cell_type": "code",
      "metadata": {
        "colab": {
          "base_uri": "https://localhost:8080/",
          "height": 227
        },
        "id": "h9SoGqBwevEa",
        "outputId": "393ee30f-8374-449f-f53a-a7e02127f69a"
      },
      "source": [
        "df.head()"
      ],
      "execution_count": 141,
      "outputs": [
        {
          "output_type": "execute_result",
          "data": {
            "text/html": [
              "<div>\n",
              "<style scoped>\n",
              "    .dataframe tbody tr th:only-of-type {\n",
              "        vertical-align: middle;\n",
              "    }\n",
              "\n",
              "    .dataframe tbody tr th {\n",
              "        vertical-align: top;\n",
              "    }\n",
              "\n",
              "    .dataframe thead th {\n",
              "        text-align: right;\n",
              "    }\n",
              "</style>\n",
              "<table border=\"1\" class=\"dataframe\">\n",
              "  <thead>\n",
              "    <tr style=\"text-align: right;\">\n",
              "      <th></th>\n",
              "      <th>id_anuncio</th>\n",
              "      <th>id_campanha</th>\n",
              "      <th>id_fb_campanha</th>\n",
              "      <th>idade</th>\n",
              "      <th>genero</th>\n",
              "      <th>interesse</th>\n",
              "      <th>numero_exibicoes</th>\n",
              "      <th>cliques_no_anuncio</th>\n",
              "      <th>valor_pago_anuncio</th>\n",
              "      <th>conversao</th>\n",
              "      <th>compras</th>\n",
              "    </tr>\n",
              "  </thead>\n",
              "  <tbody>\n",
              "    <tr>\n",
              "      <th>0</th>\n",
              "      <td>708746</td>\n",
              "      <td>Campanha_1</td>\n",
              "      <td>103916</td>\n",
              "      <td>0.0011</td>\n",
              "      <td>1</td>\n",
              "      <td>15</td>\n",
              "      <td>7350</td>\n",
              "      <td>1</td>\n",
              "      <td>1.43</td>\n",
              "      <td>2</td>\n",
              "      <td>1</td>\n",
              "    </tr>\n",
              "    <tr>\n",
              "      <th>1</th>\n",
              "      <td>708749</td>\n",
              "      <td>Campanha_1</td>\n",
              "      <td>103917</td>\n",
              "      <td>0.0011</td>\n",
              "      <td>1</td>\n",
              "      <td>16</td>\n",
              "      <td>17861</td>\n",
              "      <td>2</td>\n",
              "      <td>1.82</td>\n",
              "      <td>2</td>\n",
              "      <td>0</td>\n",
              "    </tr>\n",
              "    <tr>\n",
              "      <th>2</th>\n",
              "      <td>708771</td>\n",
              "      <td>Campanha_1</td>\n",
              "      <td>103920</td>\n",
              "      <td>0.0011</td>\n",
              "      <td>1</td>\n",
              "      <td>20</td>\n",
              "      <td>693</td>\n",
              "      <td>0</td>\n",
              "      <td>0.00</td>\n",
              "      <td>1</td>\n",
              "      <td>0</td>\n",
              "    </tr>\n",
              "    <tr>\n",
              "      <th>3</th>\n",
              "      <td>708815</td>\n",
              "      <td>Campanha_1</td>\n",
              "      <td>103928</td>\n",
              "      <td>0.0011</td>\n",
              "      <td>1</td>\n",
              "      <td>28</td>\n",
              "      <td>4259</td>\n",
              "      <td>1</td>\n",
              "      <td>1.25</td>\n",
              "      <td>1</td>\n",
              "      <td>0</td>\n",
              "    </tr>\n",
              "    <tr>\n",
              "      <th>4</th>\n",
              "      <td>708818</td>\n",
              "      <td>Campanha_1</td>\n",
              "      <td>103928</td>\n",
              "      <td>0.0011</td>\n",
              "      <td>1</td>\n",
              "      <td>28</td>\n",
              "      <td>4133</td>\n",
              "      <td>1</td>\n",
              "      <td>1.29</td>\n",
              "      <td>1</td>\n",
              "      <td>1</td>\n",
              "    </tr>\n",
              "  </tbody>\n",
              "</table>\n",
              "</div>"
            ],
            "text/plain": [
              "   id_anuncio id_campanha  ...  conversao  compras\n",
              "0      708746  Campanha_1  ...          2        1\n",
              "1      708749  Campanha_1  ...          2        0\n",
              "2      708771  Campanha_1  ...          1        0\n",
              "3      708815  Campanha_1  ...          1        0\n",
              "4      708818  Campanha_1  ...          1        1\n",
              "\n",
              "[5 rows x 11 columns]"
            ]
          },
          "metadata": {
            "tags": []
          },
          "execution_count": 141
        }
      ]
    },
    {
      "cell_type": "code",
      "metadata": {
        "id": "It14qAGLezs8"
      },
      "source": [
        "X = df[['idade', 'genero', 'interesse', 'numero_exibicoes', 'cliques_no_anuncio']]"
      ],
      "execution_count": 147,
      "outputs": []
    },
    {
      "cell_type": "code",
      "metadata": {
        "id": "BPHSuISdfLoD"
      },
      "source": [
        "y = df['valor_pago_anuncio']"
      ],
      "execution_count": 146,
      "outputs": []
    },
    {
      "cell_type": "markdown",
      "metadata": {
        "id": "iC5QIKycfRw3"
      },
      "source": [
        ""
      ]
    },
    {
      "cell_type": "code",
      "metadata": {
        "id": "KGEJ7MwDf-CY"
      },
      "source": [
        "X_train, X_test, y_train, y_test = train_test_split(X, y, test_size = 0.3, random_state = 32)"
      ],
      "execution_count": 148,
      "outputs": []
    },
    {
      "cell_type": "code",
      "metadata": {
        "colab": {
          "base_uri": "https://localhost:8080/"
        },
        "id": "ICMyKN9MgchA",
        "outputId": "e0a2da51-cf40-4e31-edd3-2b175613282e"
      },
      "source": [
        "X_train.shape"
      ],
      "execution_count": 150,
      "outputs": [
        {
          "output_type": "execute_result",
          "data": {
            "text/plain": [
              "(800, 5)"
            ]
          },
          "metadata": {
            "tags": []
          },
          "execution_count": 150
        }
      ]
    },
    {
      "cell_type": "code",
      "metadata": {
        "colab": {
          "base_uri": "https://localhost:8080/"
        },
        "id": "PSn5VFZughd5",
        "outputId": "7f0296af-6073-48e2-98da-cce3446340bd"
      },
      "source": [
        "y_train.head()"
      ],
      "execution_count": 154,
      "outputs": [
        {
          "output_type": "execute_result",
          "data": {
            "text/plain": [
              "640     78.040000\n",
              "852     62.140001\n",
              "311      2.650000\n",
              "803    142.709999\n",
              "105     32.980000\n",
              "Name: valor_pago_anuncio, dtype: float64"
            ]
          },
          "metadata": {
            "tags": []
          },
          "execution_count": 154
        }
      ]
    },
    {
      "cell_type": "code",
      "metadata": {
        "id": "8R8nAEmxhEwK"
      },
      "source": [
        "model = LinearRegression()"
      ],
      "execution_count": 157,
      "outputs": []
    },
    {
      "cell_type": "code",
      "metadata": {
        "colab": {
          "base_uri": "https://localhost:8080/"
        },
        "id": "JEfyEkFQhNqe",
        "outputId": "ce86d70f-8e3a-4b19-f6e5-4ae7dc41f63b"
      },
      "source": [
        "print(model)"
      ],
      "execution_count": 158,
      "outputs": [
        {
          "output_type": "stream",
          "text": [
            "LinearRegression(copy_X=True, fit_intercept=True, n_jobs=None, normalize=False)\n"
          ],
          "name": "stdout"
        }
      ]
    },
    {
      "cell_type": "code",
      "metadata": {
        "colab": {
          "base_uri": "https://localhost:8080/"
        },
        "id": "g4-UnEpahjiz",
        "outputId": "f5c714bc-a3ce-48ed-f656-141224aa4d12"
      },
      "source": [
        "model.fit(X_train, y_train)"
      ],
      "execution_count": 159,
      "outputs": [
        {
          "output_type": "execute_result",
          "data": {
            "text/plain": [
              "LinearRegression(copy_X=True, fit_intercept=True, n_jobs=None, normalize=False)"
            ]
          },
          "metadata": {
            "tags": []
          },
          "execution_count": 159
        }
      ]
    },
    {
      "cell_type": "code",
      "metadata": {
        "colab": {
          "base_uri": "https://localhost:8080/"
        },
        "id": "oc9eLk-LhoKU",
        "outputId": "01341f46-50c7-49cb-fc20-f6b11a918bdd"
      },
      "source": [
        "model.coef_"
      ],
      "execution_count": 161,
      "outputs": [
        {
          "output_type": "execute_result",
          "data": {
            "text/plain": [
              "array([ 1.11543951e+04,  2.54714226e+00, -6.87113770e-02,  8.85162529e-05,\n",
              "        1.06012421e+00])"
            ]
          },
          "metadata": {
            "tags": []
          },
          "execution_count": 161
        }
      ]
    },
    {
      "cell_type": "code",
      "metadata": {
        "colab": {
          "base_uri": "https://localhost:8080/"
        },
        "id": "Bq8qtT-7h3de",
        "outputId": "5b0bf18f-0a9a-4da6-ffb8-d66fcbe42ec3"
      },
      "source": [
        "model.intercept_"
      ],
      "execution_count": 162,
      "outputs": [
        {
          "output_type": "execute_result",
          "data": {
            "text/plain": [
              "-13.191111867749427"
            ]
          },
          "metadata": {
            "tags": []
          },
          "execution_count": 162
        }
      ]
    },
    {
      "cell_type": "markdown",
      "metadata": {
        "id": "lK_Y5rCtiJXQ"
      },
      "source": [
        "###y = ax + b"
      ]
    },
    {
      "cell_type": "code",
      "metadata": {
        "colab": {
          "base_uri": "https://localhost:8080/"
        },
        "id": "0kL_X8L0iIWC",
        "outputId": "61ce9976-3020-4ae4-911a-9a3c29090ceb"
      },
      "source": [
        "model.score(X_test, y_test)"
      ],
      "execution_count": 163,
      "outputs": [
        {
          "output_type": "execute_result",
          "data": {
            "text/plain": [
              "0.994899077013531"
            ]
          },
          "metadata": {
            "tags": []
          },
          "execution_count": 163
        }
      ]
    },
    {
      "cell_type": "markdown",
      "metadata": {
        "id": "aO60r2tejBkz"
      },
      "source": [
        "# Predição para Campanhas no Facebok\n"
      ]
    },
    {
      "cell_type": "code",
      "metadata": {
        "colab": {
          "base_uri": "https://localhost:8080/",
          "height": 227
        },
        "id": "rya6Qn6gjEBN",
        "outputId": "7c62987b-24f3-4d31-c8ef-c92b1626fa8d"
      },
      "source": [
        "df.head()"
      ],
      "execution_count": 164,
      "outputs": [
        {
          "output_type": "execute_result",
          "data": {
            "text/html": [
              "<div>\n",
              "<style scoped>\n",
              "    .dataframe tbody tr th:only-of-type {\n",
              "        vertical-align: middle;\n",
              "    }\n",
              "\n",
              "    .dataframe tbody tr th {\n",
              "        vertical-align: top;\n",
              "    }\n",
              "\n",
              "    .dataframe thead th {\n",
              "        text-align: right;\n",
              "    }\n",
              "</style>\n",
              "<table border=\"1\" class=\"dataframe\">\n",
              "  <thead>\n",
              "    <tr style=\"text-align: right;\">\n",
              "      <th></th>\n",
              "      <th>id_anuncio</th>\n",
              "      <th>id_campanha</th>\n",
              "      <th>id_fb_campanha</th>\n",
              "      <th>idade</th>\n",
              "      <th>genero</th>\n",
              "      <th>interesse</th>\n",
              "      <th>numero_exibicoes</th>\n",
              "      <th>cliques_no_anuncio</th>\n",
              "      <th>valor_pago_anuncio</th>\n",
              "      <th>conversao</th>\n",
              "      <th>compras</th>\n",
              "    </tr>\n",
              "  </thead>\n",
              "  <tbody>\n",
              "    <tr>\n",
              "      <th>0</th>\n",
              "      <td>708746</td>\n",
              "      <td>Campanha_1</td>\n",
              "      <td>103916</td>\n",
              "      <td>0.0011</td>\n",
              "      <td>1</td>\n",
              "      <td>15</td>\n",
              "      <td>7350</td>\n",
              "      <td>1</td>\n",
              "      <td>1.43</td>\n",
              "      <td>2</td>\n",
              "      <td>1</td>\n",
              "    </tr>\n",
              "    <tr>\n",
              "      <th>1</th>\n",
              "      <td>708749</td>\n",
              "      <td>Campanha_1</td>\n",
              "      <td>103917</td>\n",
              "      <td>0.0011</td>\n",
              "      <td>1</td>\n",
              "      <td>16</td>\n",
              "      <td>17861</td>\n",
              "      <td>2</td>\n",
              "      <td>1.82</td>\n",
              "      <td>2</td>\n",
              "      <td>0</td>\n",
              "    </tr>\n",
              "    <tr>\n",
              "      <th>2</th>\n",
              "      <td>708771</td>\n",
              "      <td>Campanha_1</td>\n",
              "      <td>103920</td>\n",
              "      <td>0.0011</td>\n",
              "      <td>1</td>\n",
              "      <td>20</td>\n",
              "      <td>693</td>\n",
              "      <td>0</td>\n",
              "      <td>0.00</td>\n",
              "      <td>1</td>\n",
              "      <td>0</td>\n",
              "    </tr>\n",
              "    <tr>\n",
              "      <th>3</th>\n",
              "      <td>708815</td>\n",
              "      <td>Campanha_1</td>\n",
              "      <td>103928</td>\n",
              "      <td>0.0011</td>\n",
              "      <td>1</td>\n",
              "      <td>28</td>\n",
              "      <td>4259</td>\n",
              "      <td>1</td>\n",
              "      <td>1.25</td>\n",
              "      <td>1</td>\n",
              "      <td>0</td>\n",
              "    </tr>\n",
              "    <tr>\n",
              "      <th>4</th>\n",
              "      <td>708818</td>\n",
              "      <td>Campanha_1</td>\n",
              "      <td>103928</td>\n",
              "      <td>0.0011</td>\n",
              "      <td>1</td>\n",
              "      <td>28</td>\n",
              "      <td>4133</td>\n",
              "      <td>1</td>\n",
              "      <td>1.29</td>\n",
              "      <td>1</td>\n",
              "      <td>1</td>\n",
              "    </tr>\n",
              "  </tbody>\n",
              "</table>\n",
              "</div>"
            ],
            "text/plain": [
              "   id_anuncio id_campanha  ...  conversao  compras\n",
              "0      708746  Campanha_1  ...          2        1\n",
              "1      708749  Campanha_1  ...          2        0\n",
              "2      708771  Campanha_1  ...          1        0\n",
              "3      708815  Campanha_1  ...          1        0\n",
              "4      708818  Campanha_1  ...          1        1\n",
              "\n",
              "[5 rows x 11 columns]"
            ]
          },
          "metadata": {
            "tags": []
          },
          "execution_count": 164
        }
      ]
    },
    {
      "cell_type": "code",
      "metadata": {
        "colab": {
          "base_uri": "https://localhost:8080/"
        },
        "id": "_BlPN8oSjJL_",
        "outputId": "020e20ed-611d-4a63-b327-85a0698f9fbd"
      },
      "source": [
        "idade = float(input(\"Idade: \"))\n",
        "genero = int(input(\"Gênero: \"))\n",
        "interesse = int(input(\"Interesse: \"))\n",
        "numero_exibicoes = int(input(\"Exibições: \"))\n",
        "cliques_no_anuncio = int(input(\"Cliques: \"))"
      ],
      "execution_count": 166,
      "outputs": [
        {
          "output_type": "stream",
          "text": [
            "Idade: 0.0011\n",
            "Gênero: 1\n",
            "Interesse: 28\n",
            "Exibições: 8000\n",
            "Cliques: 1\n"
          ],
          "name": "stdout"
        }
      ]
    },
    {
      "cell_type": "code",
      "metadata": {
        "id": "youQbt8wjd0H"
      },
      "source": [
        "pred = model.predict([[idade, genero, interesse, numero_exibicoes, cliques_no_anuncio]])"
      ],
      "execution_count": 171,
      "outputs": []
    },
    {
      "cell_type": "code",
      "metadata": {
        "colab": {
          "base_uri": "https://localhost:8080/"
        },
        "id": "DJKpnLrHkjZA",
        "outputId": "36aebcf6-f0d9-44ae-ebba-4d3490dd4922"
      },
      "source": [
        "print(pred)"
      ],
      "execution_count": 172,
      "outputs": [
        {
          "output_type": "stream",
          "text": [
            "[1.47020066]\n"
          ],
          "name": "stdout"
        }
      ]
    },
    {
      "cell_type": "code",
      "metadata": {
        "id": "3dWv21ynkm-b"
      },
      "source": [
        ""
      ],
      "execution_count": null,
      "outputs": []
    }
  ]
}